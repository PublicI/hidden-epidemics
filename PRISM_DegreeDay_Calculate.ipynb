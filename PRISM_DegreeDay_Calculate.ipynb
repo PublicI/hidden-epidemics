{
 "cells": [
  {
   "cell_type": "code",
   "execution_count": 1,
   "metadata": {},
   "outputs": [],
   "source": [
    "import rasterio\n",
    "import numpy as np\n",
    "from scipy import stats\n",
    "import glob\n",
    "import os.path\n",
    "import re\n",
    "from datetime import datetime\n",
    "import copy"
   ]
  },
  {
   "cell_type": "code",
   "execution_count": 2,
   "metadata": {},
   "outputs": [],
   "source": [
    "THRESHOLD = 6\n",
    "DATE_REGEX = 'PRISM_tmean_stable_4kmD1_(\\d*)_bil.bil'\n",
    "FILE_REGEX = 'PRISM/**/*%s*.bil'\n",
    "\n",
    "dayRegex = re.compile(DATE_REGEX)"
   ]
  },
  {
   "cell_type": "code",
   "execution_count": 3,
   "metadata": {},
   "outputs": [],
   "source": [
    "interesting_years = range(1981, 2018, 10)"
   ]
  },
  {
   "cell_type": "code",
   "execution_count": 4,
   "metadata": {},
   "outputs": [],
   "source": [
    "def thresholdDay(tmean, threshold):\n",
    "    degree_days = tmean - threshold\n",
    "    return degree_days"
   ]
  },
  {
   "cell_type": "code",
   "execution_count": 5,
   "metadata": {},
   "outputs": [],
   "source": [
    "def readFile(file):\n",
    "    with rasterio.open(file, driver='Ehdr') as src:\n",
    "        tmean = src.read(1, masked=True)\n",
    "        # tmean_threshold = thresholdDay(tmean, THRESHOLD)\n",
    "        return (src.meta, tmean)"
   ]
  },
  {
   "cell_type": "code",
   "execution_count": 6,
   "metadata": {},
   "outputs": [],
   "source": [
    "def writeFile(file, dest, meta):\n",
    "    meta = copy.deepcopy(meta)\n",
    "    #file = copy.deepcopy(file)\n",
    "    file = np.ma.filled(file, fill_value=meta['nodata'])\n",
    "    file = file.astype(meta['dtype'])\n",
    "\n",
    "    meta['driver'] = 'GTiff'    \n",
    "    \n",
    "    with rasterio.open(dest, 'w', **meta) as dst:\n",
    "        dst.write(file, 1)\n",
    "        del meta, file"
   ]
  },
  {
   "cell_type": "code",
   "execution_count": 7,
   "metadata": {},
   "outputs": [],
   "source": [
    "def thresholdYear(yearStart, yearEnd):\n",
    "    aggregate = []\n",
    "    meta = None\n",
    "    lookupYears = list(range(yearStart, yearEnd))\n",
    "    days = [day for year in lookupYears for day in glob.glob(FILE_REGEX % year)]\n",
    "\n",
    "    print('%s-%s: Processing %s days in %s years' % (yearStart, yearEnd, len(days), len(lookupYears)))\n",
    "\n",
    "    for year in lookupYears:\n",
    "        yearAggregate = dict()\n",
    "        for day in glob.glob(FILE_REGEX % year):\n",
    "            basename = os.path.basename(day)\n",
    "            dateString = dayRegex.search(basename).groups(0)[0]\n",
    "            objDate = datetime.strptime(dateString, '%Y%m%d')\n",
    "            \n",
    "            if objDate.year in lookupYears:\n",
    "                (tmeta, tmean) = readFile(day)\n",
    "                yearAggregate[objDate] = tmean\n",
    "                meta = tmeta\n",
    "            else: pass\n",
    "        if yearAggregate: aggregate.append(yearAggregate)\n",
    "    return (aggregate, meta)"
   ]
  },
  {
   "cell_type": "code",
   "execution_count": 8,
   "metadata": {},
   "outputs": [],
   "source": [
    "def remap(matrix):\n",
    "    m = matrix\n",
    "    m[(m > 0) & (m < 800)] = 800\n",
    "    return m"
   ]
  },
  {
   "cell_type": "code",
   "execution_count": 12,
   "metadata": {},
   "outputs": [],
   "source": [
    "def aggregateYears(aggregates, month, threshold):\n",
    "    years_filtered = []\n",
    "    for year in aggregates:\n",
    "        days = [matrix - threshold for day, matrix in year.items() if day.month <= month]\n",
    "        years_filtered.append(days)\n",
    "\n",
    "    yearsComposite = [np.ma.mean(day, axis=0) for day in zip(*years_filtered)]\n",
    "    #yearsComposite = [year - threshold for year in yearsComposite]\n",
    "    yearsComposite = [np.ma.masked_less_equal(year, 0) for year in yearsComposite]\n",
    "    yearsComposite = np.ma.sum(yearsComposite, axis=0)\n",
    "    #yearsComposite = remap(yearsComposite)\n",
    "    #yearsComposite = yearsComposite // 100\n",
    "    #yearsComposite = yearsComposite * 100\n",
    "    \n",
    "    return yearsComposite"
   ]
  },
  {
   "cell_type": "code",
   "execution_count": null,
   "metadata": {},
   "outputs": [],
   "source": []
  },
  {
   "cell_type": "code",
   "execution_count": 13,
   "metadata": {},
   "outputs": [],
   "source": [
    "def processYear(year, increment=9):\n",
    "    yearStart = year\n",
    "    yearEnd = year + increment\n",
    "    \n",
    "    dest = './dist/%s-%s.tiff' % (yearStart, yearEnd)\n",
    "\n",
    "    (aggregates, meta) = thresholdYear(yearStart, yearEnd)\n",
    "    \n",
    "    yearlyThreshold = aggregateYears(aggregates, 8, THRESHOLD)\n",
    "\n",
    "    writeFile(yearlyThreshold, dest, meta)"
   ]
  },
  {
   "cell_type": "code",
   "execution_count": 14,
   "metadata": {},
   "outputs": [
    {
     "name": "stdout",
     "output_type": "stream",
     "text": [
      "1981-1990: Processing 3287 days in 9 years\n",
      "1991-2000: Processing 3287 days in 9 years\n",
      "2001-2010: Processing 3287 days in 9 years\n",
      "2011-2020: Processing 2635 days in 9 years\n"
     ]
    }
   ],
   "source": [
    "for year in interesting_years:\n",
    "    processYear(year, increment=9)"
   ]
  },
  {
   "cell_type": "code",
   "execution_count": 17,
   "metadata": {},
   "outputs": [],
   "source": [
    "def reclassifyRaster(raster, interval):\n",
    "    with rasterio.open(raster) as src:\n",
    "        rasterArr = src.read(1, masked=True)\n",
    "        return rasterArr"
   ]
  },
  {
   "cell_type": "code",
   "execution_count": 18,
   "metadata": {},
   "outputs": [],
   "source": [
    "t = reclassifyRaster('./dist/1981-1990.tiff', 80)"
   ]
  },
  {
   "cell_type": "code",
   "execution_count": 19,
   "metadata": {},
   "outputs": [
    {
     "ename": "AttributeError",
     "evalue": "module 'rasterio' has no attribute 'plot'",
     "output_type": "error",
     "traceback": [
      "\u001b[0;31m---------------------------------------------------------------------------\u001b[0m",
      "\u001b[0;31mAttributeError\u001b[0m                            Traceback (most recent call last)",
      "\u001b[0;32m<ipython-input-19-eafdaef409ea>\u001b[0m in \u001b[0;36m<module>\u001b[0;34m()\u001b[0m\n\u001b[0;32m----> 1\u001b[0;31m \u001b[0mrasterio\u001b[0m\u001b[0;34m.\u001b[0m\u001b[0mplot\u001b[0m\u001b[0;34m.\u001b[0m\u001b[0mshow\u001b[0m\u001b[0;34m(\u001b[0m\u001b[0mt\u001b[0m\u001b[0;34m)\u001b[0m\u001b[0;34m\u001b[0m\u001b[0m\n\u001b[0m",
      "\u001b[0;31mAttributeError\u001b[0m: module 'rasterio' has no attribute 'plot'"
     ]
    }
   ],
   "source": [
    "rasterio.plot.show(t)"
   ]
  },
  {
   "cell_type": "code",
   "execution_count": null,
   "metadata": {},
   "outputs": [],
   "source": []
  },
  {
   "cell_type": "code",
   "execution_count": null,
   "metadata": {},
   "outputs": [],
   "source": []
  },
  {
   "cell_type": "code",
   "execution_count": null,
   "metadata": {},
   "outputs": [],
   "source": []
  },
  {
   "cell_type": "raw",
   "metadata": {},
   "source": [
    "with rasterio.open(file, driver='Ehdr') as src:\n",
    "    tmean = src.read(1, masked=True)\n",
    "    tmean = ma.masked_where(tmean < 6, tmean)\n",
    "    tmean = np.ma.filled(tmean, 0)\n",
    "    tmean = ma.masked_where(tmean > 1, tmean)\n",
    "    tmean = np.ma.filled(tmean, 1)\n",
    "    writeFile(tmean, src.meta)"
   ]
  }
 ],
 "metadata": {
  "kernelspec": {
   "display_name": "Python 3",
   "language": "python",
   "name": "python3"
  },
  "language_info": {
   "codemirror_mode": {
    "name": "ipython",
    "version": 3
   },
   "file_extension": ".py",
   "mimetype": "text/x-python",
   "name": "python",
   "nbconvert_exporter": "python",
   "pygments_lexer": "ipython3",
   "version": "3.6.6"
  }
 },
 "nbformat": 4,
 "nbformat_minor": 2
}
