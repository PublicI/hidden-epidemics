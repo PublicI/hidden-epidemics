{
 "cells": [
  {
   "cell_type": "code",
   "execution_count": null,
   "metadata": {},
   "outputs": [],
   "source": [
    "import rasterio\n",
    "import numpy as np\n",
    "from scipy import stats\n",
    "import glob\n",
    "import os.path\n",
    "import re\n",
    "from datetime import datetime\n",
    "import copy\n",
    "import argparse\n",
    "import sys"
   ]
  },
  {
   "cell_type": "markdown",
   "metadata": {},
   "source": [
    "# Generating Rasters of Lyme Habitability\n",
    "\n",
    "This script generates a raster of Lyme habitability based on a 6 degree threshold. This threshold value comes from \"Thermal accumulation and the early development of Ixodes scapularis.\" from Rand et.al [https://pdfs.semanticscholar.org/fd95/ff4de3f2a88b1d51b90c0d84a9707bc226d8.pdf]\n",
    "\n",
    "An explanation of the \"Degree Day\" metric is available here: http://www.degreedays.net/introduction\n",
    "\n",
    "The surface temperature data is available from PRISM: http://www.prism.oregonstate.edu/\n",
    "\n",
    "Here's a rough outline of the methodology:\n",
    "\n",
    "E.g. the data for 1981-1990:\n",
    " \n",
    "1. Acquire the PRISM data from here: http://www.prism.oregonstate.edu/recent/ (Node script is available in repo to automate this)\n",
    "2. For each day of each year in the interval, estimate the degree-day using the following formula: tmean – 6 [Assuming a 6 degree threshold]\n",
    "3. Generate average degree-day value for each day of the year by taking a mean of each day across the set. E.g. mean of all the January 1sts, all January 2nds etc.\n",
    "4. Add up the degree day value for the months of Jan – August to get the accumulation value for 1981-1990\n"
   ]
  },
  {
   "cell_type": "code",
   "execution_count": null,
   "metadata": {},
   "outputs": [],
   "source": [
    "THRESHOLD = 6\n",
    "DATE_REGEX = 'PRISM_tmean_stable_4kmD1_(\\d*)_bil.bil'\n",
    "FILE_REGEX = 'PRISM/**/*%s*.bil'\n",
    "\n",
    "dayRegex = re.compile(DATE_REGEX)"
   ]
  },
  {
   "cell_type": "code",
   "execution_count": null,
   "metadata": {},
   "outputs": [],
   "source": [
    "interesting_years = range(1981, 2018, 10)"
   ]
  },
  {
   "cell_type": "markdown",
   "metadata": {},
   "source": [
    "## Read/Write Raster PRISM files"
   ]
  },
  {
   "cell_type": "code",
   "execution_count": null,
   "metadata": {},
   "outputs": [],
   "source": [
    "def readFile(file):\n",
    "    with rasterio.open(file, driver='Ehdr') as src:\n",
    "        tmean = src.read(1, masked=True)\n",
    "        return (src.meta, tmean)"
   ]
  },
  {
   "cell_type": "code",
   "execution_count": null,
   "metadata": {},
   "outputs": [],
   "source": [
    "def writeFile(file, dest, meta):\n",
    "    meta = copy.deepcopy(meta)\n",
    "    #file = copy.deepcopy(file)\n",
    "    file = np.ma.filled(file, fill_value=meta['nodata'])\n",
    "    file = file.astype(meta['dtype'])\n",
    "\n",
    "    meta['driver'] = 'GTiff'    \n",
    "    \n",
    "    with rasterio.open(dest, 'w', **meta) as dst:\n",
    "        dst.write(file, 1)\n",
    "        del meta, file"
   ]
  },
  {
   "cell_type": "markdown",
   "metadata": {},
   "source": [
    "## Degree day thresholding"
   ]
  },
  {
   "cell_type": "code",
   "execution_count": null,
   "metadata": {},
   "outputs": [],
   "source": [
    "def thresholdDay(tmean, threshold):\n",
    "    degree_days = tmean - threshold\n",
    "    return degree_days"
   ]
  },
  {
   "cell_type": "code",
   "execution_count": null,
   "metadata": {},
   "outputs": [],
   "source": [
    "def thresholdYear(yearStart, yearEnd):\n",
    "    aggregate = []\n",
    "    meta = None\n",
    "    lookupYears = list(range(yearStart, yearEnd))\n",
    "    days = [day for year in lookupYears for day in glob.glob(FILE_REGEX % year)]\n",
    "\n",
    "    print('%s-%s: Processing %s days in %s years' % (yearStart, yearEnd, len(days), len(lookupYears)))\n",
    "\n",
    "    for year in lookupYears:\n",
    "        yearAggregate = dict()\n",
    "        for day in glob.glob(FILE_REGEX % year):\n",
    "            basename = os.path.basename(day)\n",
    "            dateString = dayRegex.search(basename).groups(0)[0]\n",
    "            objDate = datetime.strptime(dateString, '%Y%m%d')\n",
    "            \n",
    "            if objDate.year in lookupYears:\n",
    "                (tmeta, tmean) = readFile(day)\n",
    "                yearAggregate[objDate] = tmean\n",
    "                meta = tmeta\n",
    "            else: pass\n",
    "        if yearAggregate: aggregate.append(yearAggregate)\n",
    "    return (aggregate, meta)"
   ]
  },
  {
   "cell_type": "code",
   "execution_count": null,
   "metadata": {},
   "outputs": [],
   "source": [
    "def remap(matrix):\n",
    "    m = matrix\n",
    "    m[(m > 0) & (m < 800)] = 800\n",
    "    return m"
   ]
  },
  {
   "cell_type": "code",
   "execution_count": null,
   "metadata": {},
   "outputs": [],
   "source": [
    "def aggregateYears(aggregates, month, threshold):\n",
    "    years_filtered = []\n",
    "    for year in aggregates:\n",
    "        days = [matrix - threshold for day, matrix in year.items() if day.month <= month]\n",
    "        years_filtered.append(days)\n",
    "\n",
    "    yearsComposite = [np.ma.mean(day, axis=0) for day in zip(*years_filtered)]\n",
    "    yearsComposite = [np.ma.masked_less_equal(year, 0) for year in yearsComposite]\n",
    "    yearsComposite = np.ma.sum(yearsComposite, axis=0)\n",
    "\n",
    "    return yearsComposite"
   ]
  },
  {
   "cell_type": "code",
   "execution_count": null,
   "metadata": {},
   "outputs": [],
   "source": [
    "def processYear(year, increment=9):\n",
    "    yearStart = year\n",
    "    yearEnd = year + increment\n",
    "    \n",
    "    dest = './dist/source/%s-%s.tiff' % (yearStart, yearEnd)\n",
    "\n",
    "    (aggregates, meta) = thresholdYear(yearStart, yearEnd)\n",
    "    \n",
    "    yearlyThreshold = aggregateYears(aggregates, 8, THRESHOLD)\n",
    "\n",
    "    writeFile(yearlyThreshold, dest, meta)"
   ]
  },
  {
   "cell_type": "markdown",
   "metadata": {},
   "source": [
    "## Processing Loop"
   ]
  },
  {
   "cell_type": "code",
   "execution_count": null,
   "metadata": {},
   "outputs": [],
   "source": [
    "try:\n",
    "    isnotebook = get_ipython()\n",
    "except:\n",
    "    isnotebook = None\n",
    "\n",
    "if __name__ == \"__main__\" and not isnotebook:\n",
    "    parser = argparse.ArgumentParser(\"Lyme Modeling\")\n",
    "    parser.add_argument(\"range\", help=\"What range to generate files for?\", type=str)\n",
    "    args = parser.parse_args()\n",
    "    rg = args.range\n",
    "    start_year = int(rg.split('-')[0])\n",
    "    end_year = int(rg.split('-')[1])\n",
    "    increment = end_year - start_year\n",
    "    interesting_years = [start_year]\n",
    "else:\n",
    "    increment = 9\n",
    "    interesting_years = interesting_years # DRY ¯\\_(ツ)_/¯"
   ]
  },
  {
   "cell_type": "code",
   "execution_count": null,
   "metadata": {},
   "outputs": [],
   "source": [
    "for year in interesting_years:\n",
    "    processYear(year, increment=increment)"
   ]
  },
  {
   "cell_type": "code",
   "execution_count": null,
   "metadata": {},
   "outputs": [],
   "source": []
  },
  {
   "cell_type": "code",
   "execution_count": null,
   "metadata": {},
   "outputs": [],
   "source": []
  }
 ],
 "metadata": {
  "kernelspec": {
   "display_name": "Python 3",
   "language": "python",
   "name": "python3"
  },
  "language_info": {
   "codemirror_mode": {
    "name": "ipython",
    "version": 3
   },
   "file_extension": ".py",
   "mimetype": "text/x-python",
   "name": "python",
   "nbconvert_exporter": "python",
   "pygments_lexer": "ipython3",
   "version": "3.6.6"
  }
 },
 "nbformat": 4,
 "nbformat_minor": 2
}
