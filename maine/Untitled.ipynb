{
 "cells": [
  {
   "cell_type": "code",
   "execution_count": 77,
   "metadata": {},
   "outputs": [],
   "source": [
    "import pandas as pd\n",
    "import re"
   ]
  },
  {
   "cell_type": "code",
   "execution_count": 310,
   "metadata": {},
   "outputs": [],
   "source": [
    "xl = pd.ExcelFile('./Tables a299f9a79.xlsx')"
   ]
  },
  {
   "cell_type": "code",
   "execution_count": 311,
   "metadata": {},
   "outputs": [
    {
     "data": {
      "text/plain": [
       "<pandas.io.excel.ExcelFile at 0x1086665c0>"
      ]
     },
     "execution_count": 311,
     "metadata": {},
     "output_type": "execute_result"
    }
   ],
   "source": [
    "xl"
   ]
  },
  {
   "cell_type": "code",
   "execution_count": 312,
   "metadata": {},
   "outputs": [],
   "source": [
    "dataframes = []\n",
    "for page in xl.sheet_names:\n",
    "    df = xl.parse(page, skiprows=14, skip_footer=18)\n",
    "    df = df.dropna(how='all')\n",
    "    df = df[df['Rate'] != '(Per 100,000)']\n",
    "    dataframes.append(df)"
   ]
  },
  {
   "cell_type": "code",
   "execution_count": 313,
   "metadata": {},
   "outputs": [],
   "source": [
    "maine_surveilance = pd.concat(dataframes).sort_values(by=['Year', 'Location'])"
   ]
  },
  {
   "cell_type": "markdown",
   "metadata": {},
   "source": []
  },
  {
   "cell_type": "code",
   "execution_count": null,
   "metadata": {},
   "outputs": [],
   "source": []
  },
  {
   "cell_type": "code",
   "execution_count": 314,
   "metadata": {},
   "outputs": [],
   "source": [
    "maine_surveilance.Rate = pd.to_numeric(maine_surveilance.Rate, errors='coerce')\n",
    "maine_surveilance.Year = pd.to_numeric(maine_surveilance.Year, errors='coerce', downcast='integer')"
   ]
  },
  {
   "cell_type": "code",
   "execution_count": 315,
   "metadata": {},
   "outputs": [],
   "source": [
    "maine_pivot_table = maine_surveilance.pivot_table(values='Rate', columns='Year', index='Location')"
   ]
  },
  {
   "cell_type": "code",
   "execution_count": 328,
   "metadata": {},
   "outputs": [],
   "source": [
    "just_years = maine_pivot_table[list(range(2008,2018))]\n",
    "maine_pivot_table['Max_Year'] = just_years.apply(axis=1, func=lambda x: x.idxmax(skipna=True))\n",
    "maine_pivot_table['Max'] = just_years.apply(axis=1, func=lambda x: x.max(skipna=True))\n",
    "maine_pivot_table['Mean'] = just_years.apply(axis=1, func=lambda x: x.mean(skipna=True))\n",
    "#maine_pivot_table['RateofChange'] = (maine_pivot_table[2016].fillna(0)-maine_pivot_table[2008].fillna(0))/maine_pivot_table[2008].fillna(0)"
   ]
  },
  {
   "cell_type": "code",
   "execution_count": 329,
   "metadata": {},
   "outputs": [],
   "source": [
    "maine_pivot_table.to_csv('./maine_with_stats.csv', na_rep=\"N/R\")"
   ]
  },
  {
   "cell_type": "code",
   "execution_count": 330,
   "metadata": {},
   "outputs": [],
   "source": [
    "maine_towns = pd.read_csv('./city_names.csv')"
   ]
  },
  {
   "cell_type": "code",
   "execution_count": 331,
   "metadata": {},
   "outputs": [],
   "source": [
    "statistics = pd.DataFrame(maine_pivot_table.to_records())\n",
    "\n",
    "location_remap = {\n",
    "    \"Fletchers Landing\": \"Central Hancock\",\n",
    "    \"Prentiss Twp T7 R3 NBPP\": \"Prentiss\",\n",
    "    \"Perkins Twp Swan Island\": \"Perkins\",\n",
    "    \"Monhegan Island\": \"Monhegan\",\n",
    "    \"Hibberts Gore\": \"Hibberts\",\n",
    "    \"Pukakon\": \"Whitney\",\n",
    "    \"Orneville\": \"Southeast Piscataquis\",\n",
    "    \"Pleasant Point\": \"Passamaquoddy Pleasant Point\",\n",
    "    \"Indian Twp Res\": \"Passamaquoddy Indian Township\",\n",
    "    \"T32 MD BPP\": \"Northwest Hancock\"\n",
    "}\n",
    "\n",
    "suffix_regex = re.compile(r\"\\s(Plt|Twp)$\")\n",
    "prefix_regex = re.compile(r\"^Saint\")\n",
    "\n",
    "statistics['Location'] = statistics['Location'].str.replace(suffix_regex, '')\n",
    "statistics['Location'] = statistics['Location'].str.replace(prefix_regex, 'St.')\n",
    "\n",
    "statistics.replace({'Location': location_remap}, inplace=True)\n",
    "\n",
    "statistics = statistics.sort_values(by='Location').reset_index()"
   ]
  },
  {
   "cell_type": "code",
   "execution_count": 332,
   "metadata": {},
   "outputs": [],
   "source": [
    "gis = maine_towns.sort_values(by='NAME10').reset_index()[['OBJECTID', 'NAME10', 'GEOID10', 'COUNTY', 'COUNTYFP10', 'POP10']]"
   ]
  },
  {
   "cell_type": "code",
   "execution_count": 333,
   "metadata": {},
   "outputs": [
    {
     "data": {
      "text/html": [
       "<div>\n",
       "<style scoped>\n",
       "    .dataframe tbody tr th:only-of-type {\n",
       "        vertical-align: middle;\n",
       "    }\n",
       "\n",
       "    .dataframe tbody tr th {\n",
       "        vertical-align: top;\n",
       "    }\n",
       "\n",
       "    .dataframe thead th {\n",
       "        text-align: right;\n",
       "    }\n",
       "</style>\n",
       "<table border=\"1\" class=\"dataframe\">\n",
       "  <thead>\n",
       "    <tr style=\"text-align: right;\">\n",
       "      <th></th>\n",
       "      <th>index</th>\n",
       "      <th>Location</th>\n",
       "      <th>2008.0</th>\n",
       "      <th>2009.0</th>\n",
       "      <th>2010.0</th>\n",
       "      <th>2011.0</th>\n",
       "      <th>2012.0</th>\n",
       "      <th>2013.0</th>\n",
       "      <th>2014.0</th>\n",
       "      <th>2015.0</th>\n",
       "      <th>2016.0</th>\n",
       "      <th>2017.0</th>\n",
       "      <th>Max_Year</th>\n",
       "      <th>Max</th>\n",
       "      <th>Mean</th>\n",
       "    </tr>\n",
       "  </thead>\n",
       "  <tbody>\n",
       "    <tr>\n",
       "      <th>218</th>\n",
       "      <td>218</td>\n",
       "      <td>Indian Island</td>\n",
       "      <td>0.0</td>\n",
       "      <td>NaN</td>\n",
       "      <td>0.0</td>\n",
       "      <td>0.0</td>\n",
       "      <td>0.0</td>\n",
       "      <td>0.0</td>\n",
       "      <td>0.0</td>\n",
       "      <td>0.0</td>\n",
       "      <td>0.0</td>\n",
       "      <td>0.0</td>\n",
       "      <td>2008.0</td>\n",
       "      <td>0.0</td>\n",
       "      <td>0.0</td>\n",
       "    </tr>\n",
       "    <tr>\n",
       "      <th>362</th>\n",
       "      <td>219</td>\n",
       "      <td>Passamaquoddy Indian Township</td>\n",
       "      <td>NaN</td>\n",
       "      <td>0.0</td>\n",
       "      <td>NaN</td>\n",
       "      <td>0.0</td>\n",
       "      <td>0.0</td>\n",
       "      <td>0.0</td>\n",
       "      <td>0.0</td>\n",
       "      <td>0.0</td>\n",
       "      <td>0.0</td>\n",
       "      <td>0.0</td>\n",
       "      <td>2009.0</td>\n",
       "      <td>0.0</td>\n",
       "      <td>0.0</td>\n",
       "    </tr>\n",
       "    <tr>\n",
       "      <th>367</th>\n",
       "      <td>366</td>\n",
       "      <td>Penobscot Indian Island</td>\n",
       "      <td>NaN</td>\n",
       "      <td>NaN</td>\n",
       "      <td>NaN</td>\n",
       "      <td>NaN</td>\n",
       "      <td>NaN</td>\n",
       "      <td>NaN</td>\n",
       "      <td>NaN</td>\n",
       "      <td>NaN</td>\n",
       "      <td>NaN</td>\n",
       "      <td>NaN</td>\n",
       "      <td>NaN</td>\n",
       "      <td>NaN</td>\n",
       "      <td>NaN</td>\n",
       "    </tr>\n",
       "  </tbody>\n",
       "</table>\n",
       "</div>"
      ],
      "text/plain": [
       "     index                       Location  2008.0  2009.0  2010.0  2011.0  \\\n",
       "218    218                  Indian Island     0.0     NaN     0.0     0.0   \n",
       "362    219  Passamaquoddy Indian Township     NaN     0.0     NaN     0.0   \n",
       "367    366        Penobscot Indian Island     NaN     NaN     NaN     NaN   \n",
       "\n",
       "     2012.0  2013.0  2014.0  2015.0  2016.0  2017.0  Max_Year  Max  Mean  \n",
       "218     0.0     0.0     0.0     0.0     0.0     0.0    2008.0  0.0   0.0  \n",
       "362     0.0     0.0     0.0     0.0     0.0     0.0    2009.0  0.0   0.0  \n",
       "367     NaN     NaN     NaN     NaN     NaN     NaN       NaN  NaN   NaN  "
      ]
     },
     "execution_count": 333,
     "metadata": {},
     "output_type": "execute_result"
    }
   ],
   "source": [
    "statistics[statistics.Location.str.contains('Indian')]"
   ]
  },
  {
   "cell_type": "code",
   "execution_count": 334,
   "metadata": {},
   "outputs": [],
   "source": [
    "#suffixes = ['Plt', 'Twp']"
   ]
  },
  {
   "cell_type": "code",
   "execution_count": 335,
   "metadata": {},
   "outputs": [],
   "source": [
    "locations_dont_exist = []\n",
    "tgis = gis.loc[-gis.NAME10.isin(locations_dont_exist)].reset_index()"
   ]
  },
  {
   "cell_type": "code",
   "execution_count": 336,
   "metadata": {},
   "outputs": [],
   "source": [
    "#pd.set_option('display.max_rows', 600)\n",
    "#pd.concat([statistics, tgis], axis=1)[['Location', 'NAME10']]"
   ]
  },
  {
   "cell_type": "code",
   "execution_count": 337,
   "metadata": {},
   "outputs": [],
   "source": [
    "joined = statistics.merge(tgis, left_on='Location', right_on='NAME10', how='left')"
   ]
  },
  {
   "cell_type": "code",
   "execution_count": 338,
   "metadata": {},
   "outputs": [
    {
     "data": {
      "text/html": [
       "<div>\n",
       "<style scoped>\n",
       "    .dataframe tbody tr th:only-of-type {\n",
       "        vertical-align: middle;\n",
       "    }\n",
       "\n",
       "    .dataframe tbody tr th {\n",
       "        vertical-align: top;\n",
       "    }\n",
       "\n",
       "    .dataframe thead th {\n",
       "        text-align: right;\n",
       "    }\n",
       "</style>\n",
       "<table border=\"1\" class=\"dataframe\">\n",
       "  <thead>\n",
       "    <tr style=\"text-align: right;\">\n",
       "      <th></th>\n",
       "      <th>index_x</th>\n",
       "      <th>Location</th>\n",
       "      <th>2008.0</th>\n",
       "      <th>2009.0</th>\n",
       "      <th>2010.0</th>\n",
       "      <th>2011.0</th>\n",
       "      <th>2012.0</th>\n",
       "      <th>2013.0</th>\n",
       "      <th>2014.0</th>\n",
       "      <th>2015.0</th>\n",
       "      <th>...</th>\n",
       "      <th>Max_Year</th>\n",
       "      <th>Max</th>\n",
       "      <th>Mean</th>\n",
       "      <th>index_y</th>\n",
       "      <th>OBJECTID</th>\n",
       "      <th>NAME10</th>\n",
       "      <th>GEOID10</th>\n",
       "      <th>COUNTY</th>\n",
       "      <th>COUNTYFP10</th>\n",
       "      <th>POP10</th>\n",
       "    </tr>\n",
       "  </thead>\n",
       "  <tbody>\n",
       "    <tr>\n",
       "      <th>218</th>\n",
       "      <td>218</td>\n",
       "      <td>Indian Island</td>\n",
       "      <td>0.0</td>\n",
       "      <td>NaN</td>\n",
       "      <td>0.0</td>\n",
       "      <td>0.0</td>\n",
       "      <td>0.0</td>\n",
       "      <td>0.0</td>\n",
       "      <td>0.0</td>\n",
       "      <td>0.0</td>\n",
       "      <td>...</td>\n",
       "      <td>2008.0</td>\n",
       "      <td>0.0</td>\n",
       "      <td>0.0</td>\n",
       "      <td>NaN</td>\n",
       "      <td>NaN</td>\n",
       "      <td>NaN</td>\n",
       "      <td>NaN</td>\n",
       "      <td>NaN</td>\n",
       "      <td>NaN</td>\n",
       "      <td>NaN</td>\n",
       "    </tr>\n",
       "    <tr>\n",
       "      <th>464</th>\n",
       "      <td>459</td>\n",
       "      <td>T3 R1 NBPP</td>\n",
       "      <td>NaN</td>\n",
       "      <td>NaN</td>\n",
       "      <td>NaN</td>\n",
       "      <td>NaN</td>\n",
       "      <td>NaN</td>\n",
       "      <td>NaN</td>\n",
       "      <td>NaN</td>\n",
       "      <td>NaN</td>\n",
       "      <td>...</td>\n",
       "      <td>NaN</td>\n",
       "      <td>NaN</td>\n",
       "      <td>NaN</td>\n",
       "      <td>NaN</td>\n",
       "      <td>NaN</td>\n",
       "      <td>NaN</td>\n",
       "      <td>NaN</td>\n",
       "      <td>NaN</td>\n",
       "      <td>NaN</td>\n",
       "      <td>NaN</td>\n",
       "    </tr>\n",
       "  </tbody>\n",
       "</table>\n",
       "<p>2 rows × 22 columns</p>\n",
       "</div>"
      ],
      "text/plain": [
       "     index_x       Location  2008.0  2009.0  2010.0  2011.0  2012.0  2013.0  \\\n",
       "218      218  Indian Island     0.0     NaN     0.0     0.0     0.0     0.0   \n",
       "464      459     T3 R1 NBPP     NaN     NaN     NaN     NaN     NaN     NaN   \n",
       "\n",
       "     2014.0  2015.0  ...   Max_Year  Max  Mean  index_y  OBJECTID  NAME10  \\\n",
       "218     0.0     0.0  ...     2008.0  0.0   0.0      NaN       NaN     NaN   \n",
       "464     NaN     NaN  ...        NaN  NaN   NaN      NaN       NaN     NaN   \n",
       "\n",
       "     GEOID10 COUNTY  COUNTYFP10 POP10  \n",
       "218      NaN    NaN         NaN   NaN  \n",
       "464      NaN    NaN         NaN   NaN  \n",
       "\n",
       "[2 rows x 22 columns]"
      ]
     },
     "execution_count": 338,
     "metadata": {},
     "output_type": "execute_result"
    }
   ],
   "source": [
    "joined[joined['NAME10'].isnull()]"
   ]
  },
  {
   "cell_type": "code",
   "execution_count": 339,
   "metadata": {},
   "outputs": [],
   "source": [
    "joined.to_csv('./joined_maine_counties.csv', index=False)"
   ]
  },
  {
   "cell_type": "code",
   "execution_count": null,
   "metadata": {},
   "outputs": [],
   "source": []
  }
 ],
 "metadata": {
  "kernelspec": {
   "display_name": "Python 3",
   "language": "python",
   "name": "python3"
  },
  "language_info": {
   "codemirror_mode": {
    "name": "ipython",
    "version": 3
   },
   "file_extension": ".py",
   "mimetype": "text/x-python",
   "name": "python",
   "nbconvert_exporter": "python",
   "pygments_lexer": "ipython3",
   "version": "3.6.5"
  }
 },
 "nbformat": 4,
 "nbformat_minor": 2
}
